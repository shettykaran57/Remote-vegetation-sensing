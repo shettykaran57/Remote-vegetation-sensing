{
 "cells": [
  {
   "cell_type": "code",
   "execution_count": 4,
   "id": "097cba21",
   "metadata": {},
   "outputs": [],
   "source": [
    "import requests"
   ]
  },
  {
   "cell_type": "code",
   "execution_count": 30,
   "id": "57f21157",
   "metadata": {},
   "outputs": [],
   "source": [
    "response = requests.get(\"https://api.mapbox.com/styles/v1/mapbox/satellite-v9/static/72.861557,19.212009,15/600x600?access_token=pk.eyJ1Ijoic2hldHR5a2FyYW41NyIsImEiOiJja3VwNHNuaGwyM242MzNvNnNlMm1obTdyIn0.1zYRiUsXVCn4YMJ94-Ng-Q\")\n",
    "# Querying a style with raster layers returns a JPEG\n",
    "# and save the output as a JPEG image\n",
    "# Retrieve a map at 72.873722 longitude, 19.211453 latitude, zoom 10.\n",
    "# Bearing and pitch default to 0\n",
    "# and save the output as a PNG image."
   ]
  },
  {
   "cell_type": "code",
   "execution_count": 31,
   "id": "56fd6160",
   "metadata": {},
   "outputs": [
    {
     "name": "stdout",
     "output_type": "stream",
     "text": [
      "https://api.mapbox.com/styles/v1/mapbox/satellite-v9/static/72.861557,19.212009,15/600x600?access_token=pk.eyJ1Ijoic2hldHR5a2FyYW41NyIsImEiOiJja3VwNHNuaGwyM242MzNvNnNlMm1obTdyIn0.1zYRiUsXVCn4YMJ94-Ng-Q\n",
      "200\n"
     ]
    }
   ],
   "source": [
    "# print request object\n",
    "print(response.url)\n",
    "  \n",
    "# print status code\n",
    "print(response.status_code)"
   ]
  },
  {
   "cell_type": "code",
   "execution_count": 32,
   "id": "7f6b3f72",
   "metadata": {},
   "outputs": [],
   "source": [
    "file = open(\"sample_image.png\", \"wb\")\n",
    "file.write(response.content)\n",
    "file.close()\n"
   ]
  },
  {
   "cell_type": "code",
   "execution_count": null,
   "id": "50242187",
   "metadata": {},
   "outputs": [],
   "source": []
  }
 ],
 "metadata": {
  "kernelspec": {
   "display_name": "Python 3 (ipykernel)",
   "language": "python",
   "name": "python3"
  },
  "language_info": {
   "codemirror_mode": {
    "name": "ipython",
    "version": 3
   },
   "file_extension": ".py",
   "mimetype": "text/x-python",
   "name": "python",
   "nbconvert_exporter": "python",
   "pygments_lexer": "ipython3",
   "version": "3.9.7"
  }
 },
 "nbformat": 4,
 "nbformat_minor": 5
}
