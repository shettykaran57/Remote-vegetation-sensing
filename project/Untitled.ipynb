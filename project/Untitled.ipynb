{
 "cells": [
  {
   "cell_type": "code",
   "execution_count": 2,
   "id": "bfe641af",
   "metadata": {},
   "outputs": [],
   "source": [
    "# Imports\n",
    "import cv2\n",
    "import numpy as np\n",
    "import matplotlib.pyplot as plt\n",
    "\n",
    "\n",
    "# Read image\n",
    "imagePath = r\"/home/karan/Remote-vegetation-sensing/project/sundarbans_data/sample.tiff\"\n",
    "img = cv2.imread(imagePath)\n",
    "\n"
   ]
  },
  {
   "cell_type": "code",
   "execution_count": 3,
   "id": "ee939cc2",
   "metadata": {},
   "outputs": [],
   "source": [
    "hsvImage = cv2.cvtColor(image, cv2.COLOR_BGR2HSV)\n"
   ]
  },
  {
   "cell_type": "code",
   "execution_count": 4,
   "id": "4cace02e",
   "metadata": {},
   "outputs": [],
   "source": [
    "\t\n",
    "cv2.imshow('Original image',image)\n",
    "cv2.imshow('HSV image', hsvImage)"
   ]
  },
  {
   "cell_type": "code",
   "execution_count": null,
   "id": "9653fd8f",
   "metadata": {},
   "outputs": [],
   "source": []
  },
  {
   "cell_type": "code",
   "execution_count": null,
   "id": "075d4c1c",
   "metadata": {},
   "outputs": [],
   "source": [
    "\n",
    "# for each range in your boundary list:\n",
    "for (lower, upper) in boundaries:\n",
    "\n",
    "    # You get the lower and upper part of the interval:\n",
    "    lower = np.array(lower, dtype=np.uint8)\n",
    "    upper = np.array(upper, dtype=np.uint8)\n",
    "\n",
    "    # cv2.inRange is used to binarize (i.e., render in white/black) an image\n",
    "    # All the pixels that fall inside your interval [lower, uipper] will be white\n",
    "    # All the pixels that do not fall inside this interval will\n",
    "    # be rendered in black, for all three channels:\n",
    "    mask = cv2.inRange(img, lower, upper)\n",
    "\n",
    "    # Check out the binary mask:\n",
    "    cv2.imshow(\"binary mask\", mask)\n",
    "    cv2.waitKey(0)\n",
    "\n",
    "    # Now, you AND the mask and the input image\n",
    "    # All the pixels that are white in the mask will\n",
    "    # survive the AND operation, all the black pixels\n",
    "    # will remain black\n",
    "    output = cv2.bitwise_and(img, img, mask=mask)\n",
    "\n",
    "    # Check out the ANDed mask:\n",
    "    cv2.imshow(\"ANDed mask\", output)\n",
    "    cv2.waitKey(0)\n",
    "\n",
    "    # You can use the mask to count the number of white pixels.\n",
    "    # Remember that the white pixels in the mask are those that\n",
    "    # fall in your defined range, that is, every white pixel corresponds\n",
    "    # to a green pixel. Divide by the image size and you got the\n",
    "    # percentage of green pixels in the original image:\n",
    "    ratio_green = cv2.countNonZero(mask)/(img.size/3)\n",
    "\n",
    "    # This is the color percent calculation, considering the resize I did earlier.\n",
    "    colorPercent = (ratio_green * 100) / scalePercent\n",
    "\n",
    "    # Print the color percent, use 2 figures past the decimal point\n",
    "    print('green pixel percentage:', np.round(colorPercent, 2))\n",
    "\n",
    "    # numpy's hstack is used to stack two images horizontally,\n",
    "    # so you see the various images generated in one figure:\n",
    "    cv2.imshow(\"images\", np.hstack([img, output]))\n",
    "    cv2.waitKey(0)\n",
    "    \n",
    "    \n",
    "    \n"
   ]
  }
 ],
 "metadata": {
  "kernelspec": {
   "display_name": "Python 3 (ipykernel)",
   "language": "python",
   "name": "python3"
  },
  "language_info": {
   "codemirror_mode": {
    "name": "ipython",
    "version": 3
   },
   "file_extension": ".py",
   "mimetype": "text/x-python",
   "name": "python",
   "nbconvert_exporter": "python",
   "pygments_lexer": "ipython3",
   "version": "3.8.10"
  }
 },
 "nbformat": 4,
 "nbformat_minor": 5
}
